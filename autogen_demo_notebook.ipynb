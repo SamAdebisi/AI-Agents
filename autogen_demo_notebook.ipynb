{
 "cells": [
  {
   "cell_type": "code",
   "execution_count": null,
   "metadata": {},
   "outputs": [],
   "source": [
    "# !pip install pyautogen\n",
    "# !pip install openai\n",
    "\n",
    "# or pip install -r requirements.txt (from the github repo)"
   ]
  },
  {
   "cell_type": "code",
   "execution_count": null,
   "metadata": {},
   "outputs": [],
   "source": [
    "from autogen import config_list_from_json, AssistantAgent\n",
    "from autogen.agentchat.contrib.math_user_proxy_agent import MathUserProxyAgent\n",
    "\n",
    "config_list = config_list_from_json(\"./OAI_CONFIG_LIST\")"
   ]
  },
  {
   "cell_type": "code",
   "execution_count": null,
   "metadata": {},
   "outputs": [],
   "source": [
    "assistant = AssistantAgent(\n",
    "      name=\"assistant\",\n",
    "      system_message=\"You are a helpful assistant.\", # This is how you control the overall behavior of the agent!\n",
    "      llm_config={\n",
    "          \"timeout\": 600,\n",
    "          \"seed\": 42,\n",
    "          \"config_list\": config_list,\n",
    "      },\n",
    "  )"
   ]
  },
  {
   "cell_type": "code",
   "execution_count": null,
   "metadata": {},
   "outputs": [],
   "source": [
    "mathproxyagent = MathUserProxyAgent(\n",
    "      name=\"mathproxyagent\",\n",
    "      human_input_mode=\"NEVER\",\n",
    "      code_execution_config={\"use_docker\": False},\n",
    "  )"
   ]
  },
  {
   "cell_type": "code",
   "execution_count": null,
   "metadata": {},
   "outputs": [],
   "source": [
    "math_problem = (\n",
    "    \"Find all $x$ that satisfy the inequality $(2x+10)(x+3)<(3x+9)(x+8)$. Express your answer in interval notation.\"\n",
    ")\n",
    "mathproxyagent.initiate_chat(assistant, problem=math_problem)"
   ]
  },
  {
   "cell_type": "code",
   "execution_count": null,
   "metadata": {},
   "outputs": [],
   "source": []
  },
  {
   "cell_type": "code",
   "execution_count": null,
   "metadata": {},
   "outputs": [],
   "source": []
  }
 ],
 "metadata": {
  "language_info": {
   "name": "python"
  }
 },
 "nbformat": 4,
 "nbformat_minor": 2
}
