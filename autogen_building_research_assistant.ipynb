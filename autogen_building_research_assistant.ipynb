{
 "cells": [
  {
   "cell_type": "code",
   "execution_count": null,
   "metadata": {},
   "outputs": [],
   "source": [
    "# source: https://github.com/microsoft/autogen/blob/main/notebook/agentchat_groupchat_research.ipynb\n",
    "\n",
    "# !pip install pyautogen\n",
    "# !pip install openai\n",
    "# or pip install -r requirements.txt (from the github repo)"
   ]
  },
  {
   "cell_type": "code",
   "execution_count": null,
   "metadata": {},
   "outputs": [],
   "source": [
    "from autogen import config_list_from_json\n",
    "\n",
    "config_list_gpt4 = config_list_from_json(\n",
    "    \"OAI_CONFIG_LIST\",\n",
    "    filter_dict={\n",
    "        \"model\": [\"gpt-4o\"],\n",
    "    },\n",
    ")"
   ]
  },
  {
   "cell_type": "code",
   "execution_count": null,
   "metadata": {},
   "outputs": [],
   "source": [
    "gpt4_config = {\n",
    "    \"cache_seed\": 42,\n",
    "    \"temperature\": 0.0,\n",
    "    \"config_list\": config_list_gpt4,\n",
    "    \"timeout\": 120,\n",
    "}"
   ]
  },
  {
   "cell_type": "code",
   "execution_count": null,
   "metadata": {},
   "outputs": [],
   "source": [
    "from autogen import UserProxyAgent, AssistantAgent, GroupChat, GroupChatManager"
   ]
  },
  {
   "cell_type": "code",
   "execution_count": null,
   "metadata": {},
   "outputs": [],
   "source": [
    "user_proxy = UserProxyAgent(\n",
    "    name=\"Admin\",\n",
    "    system_message=\"A human admin. Interact with the planner to discuss\\\n",
    "        the plan. Plan execution needs to be approved by this admin.\",\n",
    "    code_execution_config=False\n",
    ")"
   ]
  },
  {
   "cell_type": "code",
   "execution_count": null,
   "metadata": {},
   "outputs": [],
   "source": [
    "engineer = AssistantAgent(\n",
    "    name=\"Engineer\",\n",
    "    llm_config=gpt4_config,\n",
    "    system_message=\"\"\"Engineer. You follow an approved plan. You write python/shell code to solve tasks. Wrap the code in a code block that specifies the script type. The user can't modify your code. So do not suggest incomplete code which requires others to modify. Don't use a code block if it's not intended to be executed by the executor.\n",
    "Don't include multiple code blocks in one response. Do not ask others to copy and paste the result. Check the execution result returned by the executor.\n",
    "If the result indicates there is an error, fix the error and output the code again. Suggest the full code instead of partial code or code changes. If the error can't be fixed or if the task is not solved even after the code is executed successfully, analyze the problem, revisit your assumption, collect additional info you need, and think of a different approach to try.\n",
    "\"\"\",\n",
    ")"
   ]
  },
  {
   "cell_type": "code",
   "execution_count": null,
   "metadata": {},
   "outputs": [],
   "source": [
    "scientist = AssistantAgent(\n",
    "    name=\"Scientist\",\n",
    "    llm_config=gpt4_config,\n",
    "    system_message=\"\"\"Scientist. You follow an approved plan.\n",
    "    You are able to categorize papers after seeing their abstracts printed.\n",
    "    You don't write code.\"\"\",\n",
    ")"
   ]
  },
  {
   "cell_type": "code",
   "execution_count": null,
   "metadata": {},
   "outputs": [],
   "source": [
    "planner = AssistantAgent(\n",
    "    name=\"Planner\",\n",
    "    system_message=\"\"\"Planner. Suggest a plan. Revise the plan based on feedback\n",
    "    from admin and critic, until admin approval. The plan may involve an engineer\n",
    "    who can write code and a scientist who doesn't write code. Explain the plan \n",
    "    first. Be clear which step is performed by an engineer, and which step is \n",
    "    performed by a scientist.\n",
    "    \"\"\",\n",
    "    llm_config=gpt4_config\n",
    ")"
   ]
  },
  {
   "cell_type": "code",
   "execution_count": null,
   "metadata": {},
   "outputs": [],
   "source": [
    "executor = UserProxyAgent(\n",
    "    name=\"Executor\",\n",
    "    system_message=\"Executor. Execute the code written by the engineer\\\n",
    "        and report the result.\",\n",
    "    human_input_mode=\"NEVER\",\n",
    "    code_execution_config={\"last_n_messages\": 3,\n",
    "                           \"work_dir\": \"paper\"},\n",
    ")"
   ]
  },
  {
   "cell_type": "code",
   "execution_count": null,
   "metadata": {},
   "outputs": [],
   "source": [
    "critic = AssistantAgent(\n",
    "    name=\"Critic\", \n",
    "    system_message=\"\"\"Critic. Double check plan, claims, code from other\n",
    "    agents and provide feedback. Check whether the plan includes adding \n",
    "    verifiable info such as source URL.\n",
    "    \"\"\",\n",
    "    llm_config=gpt4_config,\n",
    "    \n",
    ")"
   ]
  },
  {
   "cell_type": "code",
   "execution_count": null,
   "metadata": {},
   "outputs": [],
   "source": [
    "groupchat = GroupChat(\n",
    "    agents=[user_proxy, engineer, scientist, planner, executor, critic], \n",
    "    messages=[], max_round=20\n",
    ")"
   ]
  },
  {
   "cell_type": "code",
   "execution_count": null,
   "metadata": {},
   "outputs": [],
   "source": [
    "manager = GroupChatManager(groupchat=groupchat, \n",
    "                           llm_config=gpt4_config)"
   ]
  },
  {
   "cell_type": "code",
   "execution_count": null,
   "metadata": {},
   "outputs": [],
   "source": [
    "user_proxy.initiate_chat(\n",
    "    manager,\n",
    "    message=\"\"\"\n",
    "    Find papers on LLM applications that can enhance or augment human learning from arxiv in the last week,\n",
    "    create a markdown table of different domains.\n",
    "    \"\"\",)"
   ]
  },
  {
   "cell_type": "code",
   "execution_count": null,
   "metadata": {},
   "outputs": [],
   "source": [
    "# Display text with markdown formatting\n",
    "from IPython.display import Markdown\n",
    "\n",
    "# Specify the text to display\n",
    "text = \"\"\"\n",
    "| Title | Authors | Publication Date | Domain | URL |\n",
    "|-------|---------|------------------|--------|-----|\n",
    "| **Enhancing Student Learning with LLMs: A Case Study** | John Doe, Jane Smith | 2023-10-01 | Education | [arXiv URL](https://arxiv.org/abs/2310.00001) |\n",
    "| **LLMs in Medical Diagnosis: Improving Accuracy and Efficiency** | Alice Johnson, Bob Lee | 2023-10-02 | Healthcare | [arXiv URL](https://arxiv.org/abs/2310.00002) |\n",
    "| **Leveraging LLMs for Business Intelligence** | Carol White, David Brown | 2023-10-03 | Business | [arXiv URL](https://arxiv.org/abs/2310.00003) |\n",
    "| **Social Impacts of LLMs in Online Communities** | Eve Black, Frank Green | 2023-10-04 | Social Sciences | [arXiv URL](https://arxiv.org/abs/2310.00004) |\n",
    "| **Advancements in LLM Technology for Software Development** | Grace Blue, Henry Yellow | 2023-10-05 | Technology | [arXiv URL](https://arxiv.org/abs/2310.00005) |\n",
    "| **Exploring LLMs in Creative Writing** | Ian Red, Julia Purple | 2023-10-06 | Others | [arXiv URL](https://arxiv.org/abs/2310.00006) |\n",
    "\"\"\"\n",
    "\n",
    "# Display the text\n",
    "Markdown(text)"
   ]
  },
  {
   "cell_type": "code",
   "execution_count": null,
   "metadata": {},
   "outputs": [],
   "source": []
  }
 ],
 "metadata": {
  "language_info": {
   "name": "python"
  }
 },
 "nbformat": 4,
 "nbformat_minor": 2
}
